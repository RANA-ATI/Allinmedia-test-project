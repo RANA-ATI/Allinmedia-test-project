{
 "cells": [
  {
   "cell_type": "markdown",
   "id": "ffa1e7fa",
   "metadata": {},
   "source": [
    "# **```CLI based RAG application```**"
   ]
  },
  {
   "cell_type": "markdown",
   "id": "9c2c072b",
   "metadata": {},
   "source": [
    "##### ```Below are the requirements```"
   ]
  },
  {
   "cell_type": "markdown",
   "id": "c3ed740d",
   "metadata": {},
   "source": [
    "| **Area**         | **Requirement**                                                                                                                                         |\n",
    "|------------------|----------------------------------------------------------------------------------------------------------------------------------------------------------|\n",
    "| **Model**        | Download Llama-3.1 8B Instruct from Hugging Face. Include a script that converts it to INT4 using MLX or OpenVINO IR.                                   |\n",
    "| **Knowledge Base** | Parse `procyon_guide.pdf`, chunk text, generate embeddings, and store them using FAISS, Qdrant, Milvus, or pgvector.                                   |\n",
    "| **CLI Tool**     | Command: `rag_cli --query \"...\"` → retrieve *k* chunks → stream answer with references.                                                                 |\n",
    "| **Dependencies** | Provide fully pinned dependencies in `requirements.txt` or `environment.yml`.                                                                           |\n",
    "| **Local Inference** | Once the INT4 model is available, your script must load it locally only – no downloading of FP16 weights at runtime.                                 |\n",
    "| **Code Quality** | Python or C++ with clear modular structure, error handling, and meaningful docstrings/comments.                                                         |\n",
    "| **README.md**    | Step-by-step: venv setup, install deps, convert model, ingest PDF, run demo, expected output, and hardware specs.                                       |\n",
    "| **Self-Test**    | A one-liner shell or batch script (`run_demo.*`) to execute the full pipeline and answer a sample query.                                                |\n"
   ]
  },
  {
   "cell_type": "markdown",
   "id": "2f12f802",
   "metadata": {},
   "source": [
    "### **```Imports```**"
   ]
  },
  {
   "cell_type": "code",
   "execution_count": 1,
   "id": "e1216db8",
   "metadata": {},
   "outputs": [
    {
     "name": "stderr",
     "output_type": "stream",
     "text": [
      "e:\\My Projects\\Hegtavic Projects\\All_in_media\\Allinmedia-test-project\\.venv\\lib\\site-packages\\tqdm\\auto.py:21: TqdmWarning: IProgress not found. Please update jupyter and ipywidgets. See https://ipywidgets.readthedocs.io/en/stable/user_install.html\n",
      "  from .autonotebook import tqdm as notebook_tqdm\n"
     ]
    }
   ],
   "source": [
    "import os\n",
    "import torch\n",
    "from transformers import AutoTokenizer, AutoModelForCausalLM, GPTQConfig"
   ]
  },
  {
   "cell_type": "markdown",
   "id": "743896bf",
   "metadata": {},
   "source": [
    "#### ```Testing GPU```"
   ]
  },
  {
   "cell_type": "code",
   "execution_count": 2,
   "id": "4785c60d",
   "metadata": {},
   "outputs": [
    {
     "name": "stdout",
     "output_type": "stream",
     "text": [
      "True\n",
      "NVIDIA GeForce RTX 3090 Ti\n"
     ]
    }
   ],
   "source": [
    "print(torch.cuda.is_available())\n",
    "print(torch.cuda.get_device_name(0))"
   ]
  },
  {
   "cell_type": "markdown",
   "id": "831f274d",
   "metadata": {},
   "source": [
    "##### **```Used GPTQ Technique to convert the model to Int4```**"
   ]
  },
  {
   "cell_type": "code",
   "execution_count": null,
   "id": "33e25aec",
   "metadata": {},
   "outputs": [
    {
     "name": "stderr",
     "output_type": "stream",
     "text": [
      "Loading checkpoint shards: 100%|██████████| 4/4 [00:14<00:00,  3.74s/it]\n",
      "e:\\My Projects\\Hegtavic Projects\\All_in_media\\Allinmedia-test-project\\.venv\\lib\\site-packages\\huggingface_hub\\file_download.py:143: UserWarning: `huggingface_hub` cache-system uses symlinks by default to efficiently store duplicated files but your machine does not support them in C:\\Users\\Administrator\\.cache\\huggingface\\hub\\datasets--allenai--c4. Caching files will still work but in a degraded version that might require more space on your disk. This warning can be disabled by setting the `HF_HUB_DISABLE_SYMLINKS_WARNING` environment variable. For more details, see https://huggingface.co/docs/huggingface_hub/how-to-cache#limitations.\n",
      "To support symlinks on Windows, you either need to activate Developer Mode or to run Python as an administrator. In order to activate developer mode, see this article: https://docs.microsoft.com/en-us/windows/apps/get-started/enable-your-device-for-development\n",
      "  warnings.warn(message)\n",
      "Xet Storage is enabled for this repo, but the 'hf_xet' package is not installed. Falling back to regular HTTP download. For better performance, install the package with: `pip install huggingface_hub[hf_xet]` or `pip install hf_xet`\n",
      "Generating train split: 356317 examples [00:04, 72715.28 examples/s]\n",
      "Quantizing model.layers blocks : 100%|██████████| 32/32 [1:00:38<00:00, 113.69s/it]\n",
      "`loss_type=None` was set in the config but it is unrecognised.Using the default loss: `ForCausalLMLoss`.\n"
     ]
    },
    {
     "data": {
      "text/plain": [
       "('llama3.1-8B-gptq\\\\tokenizer_config.json',\n",
       " 'llama3.1-8B-gptq\\\\special_tokens_map.json',\n",
       " 'llama3.1-8B-gptq\\\\chat_template.jinja',\n",
       " 'llama3.1-8B-gptq\\\\tokenizer.json')"
      ]
     },
     "metadata": {},
     "output_type": "display_data"
    }
   ],
   "source": [
    "# Load tokenizer\n",
    "tokenizer = AutoTokenizer.from_pretrained(\"meta-llama/Llama-3.1-8B-Instruct\")\n",
    "\n",
    "# Set up GPTQConfig\n",
    "gptq_config = GPTQConfig(\n",
    "    bits=4,\n",
    "    dataset=\"c4\",\n",
    "    tokenizer=tokenizer\n",
    ")\n",
    "\n",
    "# Load and quantize model\n",
    "quantized_model = AutoModelForCausalLM.from_pretrained(\n",
    "    \"meta-llama/Llama-3.1-8B-Instruct\",\n",
    "    device_map=\"auto\",\n",
    "    quantization_config=gptq_config\n",
    ")\n",
    "\n",
    "# Save locally\n",
    "quantized_model.save_pretrained(\"llama3.1-8B-gptq\")\n",
    "tokenizer.save_pretrained(\"llama3.1-8B-gptq\")"
   ]
  },
  {
   "cell_type": "markdown",
   "id": "37a833fe",
   "metadata": {},
   "source": [
    "##### **```Verification of Conversion to INT 4```**"
   ]
  },
  {
   "cell_type": "markdown",
   "id": "298833a9",
   "metadata": {},
   "source": [
    "```This Model appears to be quantized if:```\n",
    "- Model size is ~4-5 GB (instead of ~16 GB)\n",
    "- You see int32/uint8 parameters or GPTQ modules\n",
    "- GPU memory usage is significantly lower\n",
    "- Inference still works correctly"
   ]
  },
  {
   "cell_type": "code",
   "execution_count": 4,
   "id": "7f4f1713",
   "metadata": {},
   "outputs": [
    {
     "name": "stdout",
     "output_type": "stream",
     "text": [
      "11.8\n",
      "True\n"
     ]
    }
   ],
   "source": [
    "import torch\n",
    "print(torch.version.cuda)   # Should print a CUDA version, e.g., '11.8'\n",
    "print(torch.cuda.is_available())  # Should be True if GPU is usable"
   ]
  },
  {
   "cell_type": "code",
   "execution_count": 3,
   "id": "6c5f42c5",
   "metadata": {},
   "outputs": [
    {
     "name": "stderr",
     "output_type": "stream",
     "text": [
      "CUDA extension not installed.\n",
      "CUDA extension not installed.\n",
      "`loss_type=None` was set in the config but it is unrecognised.Using the default loss: `ForCausalLMLoss`.\n",
      "Loading checkpoint shards: 100%|██████████| 2/2 [00:39<00:00, 19.76s/it]\n",
      "The following generation flags are not valid and may be ignored: ['temperature', 'top_p']. Set `TRANSFORMERS_VERBOSITY=info` for more details.\n"
     ]
    },
    {
     "name": "stdout",
     "output_type": "stream",
     "text": [
      "=== QUANTIZATION VERIFICATION ===\n",
      "\n",
      "1. Quantization Configuration:\n",
      "   Quantization method: gptq\n",
      "   Bits: 4\n",
      "   Group size: 128\n",
      "   Dataset: c4\n",
      "\n",
      "2. Model Size on Disk:\n",
      "   Total size: 5.36 GB\n",
      "   Expected for int4: ~4-5 GB (vs ~16 GB for fp16)\n",
      "\n",
      "3. Parameter Analysis:\n",
      "   Total parameters: 1,050,939,392\n",
      "   Parameter dtypes:\n",
      "     torch.float16: 1,050,939,392 (100.0%)\n",
      "\n",
      "4. GPTQ-Specific Checks:\n",
      "   GPTQ modules found:\n",
      "   Found quantized module: model.layers.0.self_attn.k_proj (QuantLinear)\n",
      "   Found quantized module: model.layers.0.self_attn.o_proj (QuantLinear)\n",
      "   Found quantized module: model.layers.0.self_attn.q_proj (QuantLinear)\n",
      "   Found quantized module: model.layers.0.self_attn.v_proj (QuantLinear)\n",
      "   Found quantized module: model.layers.0.mlp.down_proj (QuantLinear)\n",
      "   ... and 219 more\n",
      "   GPTQ-related files: ['model-00001-of-00002.safetensors', 'model-00002-of-00002.safetensors']\n",
      "\n",
      "5. Memory Usage:\n",
      "   GPU memory allocated: 5.34 GB\n",
      "   Expected for int4: ~4-6 GB (vs ~16 GB for fp16)\n",
      "\n",
      "6. Inference Test:\n"
     ]
    },
    {
     "name": "stderr",
     "output_type": "stream",
     "text": [
      "Setting `pad_token_id` to `eos_token_id`:128001 for open-end generation.\n"
     ]
    },
    {
     "name": "stdout",
     "output_type": "stream",
     "text": [
      "   Test input: 'The capital of France is'\n",
      "   Model output: 'The capital of France is Paris, and the capital of France is also Paris'\n",
      "   ✅ Inference successful\n",
      "\n",
      "=== SUMMARY ===\n",
      "Your model appears to be quantized if:\n",
      "• Model size is ~4-5 GB (instead of ~16 GB)\n",
      "• You see int32/uint8 parameters or GPTQ modules\n",
      "• GPU memory usage is significantly lower\n",
      "• Inference still works correctly\n"
     ]
    }
   ],
   "source": [
    "# Load your quantized model\n",
    "model_path = \"E:/My Projects/Hegtavic Projects/All_in_media/Allinmedia-test-project/models/llama3.1-8B-gptq\"\n",
    "model = AutoModelForCausalLM.from_pretrained(model_path, device_map=\"auto\")\n",
    "tokenizer = AutoTokenizer.from_pretrained(model_path)\n",
    "\n",
    "print(\"============ QUANTIZATION VERIFICATION ============\\n\")\n",
    "# Below are different tests to verify if the model is quantized correctly\n",
    "\n",
    "# 1. Check quantization config\n",
    "print(\"1. Quantization Configuration:\")\n",
    "\n",
    "# hasattr() is a built-in function used to check if an object has a given attribute. It will return True if the attribute exists, otherwise False.\n",
    "## We are just verifying if model has a config attribute and if that config has a quantization_config attribute.\n",
    "if hasattr(model, 'config') and hasattr(model.config, 'quantization_config'):\n",
    "    quant_config = model.config.quantization_config\n",
    "    ## getattr() is a built-in function used to retrieve the value of an attribute from an object dynamically (when you may not know the attribute name until runtime).\n",
    "    print(f\"   Quantization method: {getattr(quant_config, 'quant_method', 'Not found')}\")\n",
    "    print(f\"   Bits: {getattr(quant_config, 'bits', 'Not found')}\")\n",
    "    print(f\"   Group size: {getattr(quant_config, 'group_size', 'Not found')}\")\n",
    "    print(f\"   Dataset: {getattr(quant_config, 'dataset', 'Not found')}\")\n",
    "else:\n",
    "    print(\"   No quantization config found in model.config\")\n",
    "    \n",
    "# 2. Check model size on disk\n",
    "def get_folder_size(folder_path):\n",
    "    total_size = 0\n",
    "    for dirpath, dirnames, filenames in os.walk(folder_path):\n",
    "        for filename in filenames:\n",
    "            filepath = os.path.join(dirpath, filename)\n",
    "            ## Checking for the size of the file\n",
    "            total_size += os.path.getsize(filepath)\n",
    "    return total_size\n",
    "\n",
    "print(f\"\\n2. Model Size on Disk:\")\n",
    "if os.path.exists(model_path):\n",
    "    size_bytes = get_folder_size(model_path)\n",
    "    ## Convert bytes to gigabytes\n",
    "    size_gb = size_bytes / (1024**3)\n",
    "    print(f\"   Total size: {size_gb:.2f} GB\")\n",
    "    print(f\"   Expected for int4: ~4-5 GB (vs ~16 GB for fp16)\")\n",
    "else:\n",
    "    print(\"   Model path not found\")\n",
    "\n",
    "# 3. Check parameter dtypes and sizes\n",
    "print(f\"\\n3. Parameter Analysis:\")\n",
    "total_params = 0\n",
    "quantized_params = 0\n",
    "param_dtypes = {}\n",
    "\n",
    "for name, param in model.named_parameters():\n",
    "    total_params += param.numel() ##It returns the total count of scalar values stored in a tensor, regardless of its shape or dimensions.\n",
    "    dtype_str = str(param.dtype)\n",
    "    \n",
    "    # Count parameters by dtype\n",
    "    if dtype_str in param_dtypes:\n",
    "        param_dtypes[dtype_str] += param.numel()\n",
    "    else:\n",
    "        param_dtypes[dtype_str] = param.numel()\n",
    "    \n",
    "    # Check for quantized parameters (GPTQ typically uses int32 for quantized weights)\n",
    "    if 'int' in dtype_str.lower() or param.dtype in [torch.int8, torch.int32, torch.uint8]:\n",
    "        quantized_params += param.numel()\n",
    "\n",
    "print(f\"   Total parameters: {total_params:,}\")\n",
    "print(f\"   Parameter dtypes:\")\n",
    "for dtype, count in param_dtypes.items():\n",
    "    percentage = (count / total_params) * 100\n",
    "    print(f\"    {dtype}: {count:,} ({percentage:.1f}%)\")\n",
    "\n",
    "# 4. Check for GPTQ-specific attributes\n",
    "print(f\"\\n4. GPTQ-Specific Checks:\")\n",
    "gptq_indicators = []\n",
    "\n",
    "# Check for quantization-related attributes in the model\n",
    "for name, module in model.named_modules():\n",
    "    module_type = type(module).__name__\n",
    "    if 'gptq' in module_type.lower() or 'quant' in module_type.lower():\n",
    "        gptq_indicators.append(f\"   Found quantized module: {name} ({module_type})\")\n",
    "\n",
    "if gptq_indicators:\n",
    "    print(\"   GPTQ modules found:\")\n",
    "    for indicator in gptq_indicators[:5]:  # Show first 5\n",
    "        print(indicator)\n",
    "    if len(gptq_indicators) > 5:\n",
    "        print(f\"   ... and {len(gptq_indicators) - 5} more\")\n",
    "else:\n",
    "    print(\"   No obvious GPTQ modules found\")\n",
    "\n",
    "# Check for specific GPTQ files\n",
    "gptq_files = []\n",
    "if os.path.exists(model_path):\n",
    "    for file in os.listdir(model_path):\n",
    "        if 'gptq' in file.lower() or file.endswith('.safetensors'):\n",
    "            gptq_files.append(file)\n",
    "\n",
    "if gptq_files:\n",
    "    print(f\"   GPTQ-related files: {gptq_files}\")\n",
    "\n",
    "# 5. Memory usage check\n",
    "print(f\"\\n5. Memory Usage:\")\n",
    "if torch.cuda.is_available():\n",
    "    torch.cuda.empty_cache()\n",
    "    memory_allocated = torch.cuda.memory_allocated() / (1024**3)\n",
    "    print(f\"   GPU memory allocated: {memory_allocated:.2f} GB\")\n",
    "    print(f\"   Expected for int4: ~4-6 GB (vs ~16 GB for fp16)\")\n",
    "else:\n",
    "    print(\"   CUDA not available, cannot check GPU memory\")\n",
    "\n",
    "# 6. Test inference to ensure model works\n",
    "print(f\"\\n6. Inference Test:\")\n",
    "try:\n",
    "    inputs = tokenizer(\"The capital of France is\", return_tensors=\"pt\")\n",
    "    if torch.cuda.is_available():\n",
    "        inputs = {k: v.cuda() for k, v in inputs.items()}\n",
    "    \n",
    "    with torch.no_grad():\n",
    "        outputs = model.generate(**inputs, max_new_tokens=10, do_sample=False)\n",
    "    \n",
    "    response = tokenizer.decode(outputs[0], skip_special_tokens=True)\n",
    "    print(f\"   Test input: 'The capital of Pakistan is'\")\n",
    "    print(f\"   Model output: '{response}'\")\n",
    "    print(\"   Inference successful\")\n",
    "except Exception as e:\n",
    "    print(f\"   Inference failed: {str(e)}\")"
   ]
  },
  {
   "cell_type": "code",
   "execution_count": null,
   "id": "09b285d6",
   "metadata": {},
   "outputs": [],
   "source": []
  }
 ],
 "metadata": {
  "kernelspec": {
   "display_name": "Allinmedia-test-project (3.10.0)",
   "language": "python",
   "name": "python3"
  },
  "language_info": {
   "codemirror_mode": {
    "name": "ipython",
    "version": 3
   },
   "file_extension": ".py",
   "mimetype": "text/x-python",
   "name": "python",
   "nbconvert_exporter": "python",
   "pygments_lexer": "ipython3",
   "version": "3.10.0"
  }
 },
 "nbformat": 4,
 "nbformat_minor": 5
}
