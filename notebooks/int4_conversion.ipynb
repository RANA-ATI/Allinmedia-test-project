{
 "cells": [
  {
   "cell_type": "markdown",
   "id": "ffa1e7fa",
   "metadata": {},
   "source": [
    "# **```CLI based RAG application```**"
   ]
  },
  {
   "cell_type": "markdown",
   "id": "9c2c072b",
   "metadata": {},
   "source": [
    "##### ```Below are the requirements```"
   ]
  },
  {
   "cell_type": "markdown",
   "id": "c3ed740d",
   "metadata": {},
   "source": [
    "| **Area**         | **Requirement**                                                                                                                                         |\n",
    "|------------------|----------------------------------------------------------------------------------------------------------------------------------------------------------|\n",
    "| **Model**        | Download Llama-3.1 8B Instruct from Hugging Face. Include a script that converts it to INT4 using MLX or OpenVINO IR.                                   |\n",
    "| **Knowledge Base** | Parse `procyon_guide.pdf`, chunk text, generate embeddings, and store them using FAISS, Qdrant, Milvus, or pgvector.                                   |\n",
    "| **CLI Tool**     | Command: `rag_cli --query \"...\"` → retrieve *k* chunks → stream answer with references.                                                                 |\n",
    "| **Dependencies** | Provide fully pinned dependencies in `requirements.txt` or `environment.yml`.                                                                           |\n",
    "| **Local Inference** | Once the INT4 model is available, your script must load it locally only – no downloading of FP16 weights at runtime.                                 |\n",
    "| **Code Quality** | Python or C++ with clear modular structure, error handling, and meaningful docstrings/comments.                                                         |\n",
    "| **README.md**    | Step-by-step: venv setup, install deps, convert model, ingest PDF, run demo, expected output, and hardware specs.                                       |\n",
    "| **Self-Test**    | A one-liner shell or batch script (`run_demo.*`) to execute the full pipeline and answer a sample query.                                                |\n"
   ]
  },
  {
   "cell_type": "markdown",
   "id": "2f12f802",
   "metadata": {},
   "source": [
    "### **```Imports```**"
   ]
  },
  {
   "cell_type": "code",
   "execution_count": null,
   "id": "e1216db8",
   "metadata": {},
   "outputs": [],
   "source": [
    "import torch\n",
    "from transformers import AutoTokenizer, AutoModelForCausalLM, GPTQConfig"
   ]
  },
  {
   "cell_type": "markdown",
   "id": "743896bf",
   "metadata": {},
   "source": [
    "#### ```Testing GPU```"
   ]
  },
  {
   "cell_type": "code",
   "execution_count": null,
   "id": "4785c60d",
   "metadata": {},
   "outputs": [
    {
     "name": "stdout",
     "output_type": "stream",
     "text": [
      "True\n",
      "NVIDIA GeForce RTX 3090 Ti\n"
     ]
    }
   ],
   "source": [
    "print(torch.cuda.is_available())\n",
    "print(torch.cuda.get_device_name(0))"
   ]
  },
  {
   "cell_type": "markdown",
   "id": "831f274d",
   "metadata": {},
   "source": [
    "##### **```Used GPTQ Technique to convert the model to Int4```**"
   ]
  },
  {
   "cell_type": "code",
   "execution_count": null,
   "id": "33e25aec",
   "metadata": {},
   "outputs": [
    {
     "name": "stderr",
     "output_type": "stream",
     "text": [
      "Loading checkpoint shards: 100%|██████████| 4/4 [00:14<00:00,  3.74s/it]\n",
      "e:\\My Projects\\Hegtavic Projects\\All_in_media\\Allinmedia-test-project\\.venv\\lib\\site-packages\\huggingface_hub\\file_download.py:143: UserWarning: `huggingface_hub` cache-system uses symlinks by default to efficiently store duplicated files but your machine does not support them in C:\\Users\\Administrator\\.cache\\huggingface\\hub\\datasets--allenai--c4. Caching files will still work but in a degraded version that might require more space on your disk. This warning can be disabled by setting the `HF_HUB_DISABLE_SYMLINKS_WARNING` environment variable. For more details, see https://huggingface.co/docs/huggingface_hub/how-to-cache#limitations.\n",
      "To support symlinks on Windows, you either need to activate Developer Mode or to run Python as an administrator. In order to activate developer mode, see this article: https://docs.microsoft.com/en-us/windows/apps/get-started/enable-your-device-for-development\n",
      "  warnings.warn(message)\n",
      "Xet Storage is enabled for this repo, but the 'hf_xet' package is not installed. Falling back to regular HTTP download. For better performance, install the package with: `pip install huggingface_hub[hf_xet]` or `pip install hf_xet`\n",
      "Generating train split: 356317 examples [00:04, 72715.28 examples/s]\n",
      "Quantizing model.layers blocks : 100%|██████████| 32/32 [1:00:38<00:00, 113.69s/it]\n",
      "`loss_type=None` was set in the config but it is unrecognised.Using the default loss: `ForCausalLMLoss`.\n"
     ]
    },
    {
     "data": {
      "text/plain": [
       "('llama3.1-8B-gptq\\\\tokenizer_config.json',\n",
       " 'llama3.1-8B-gptq\\\\special_tokens_map.json',\n",
       " 'llama3.1-8B-gptq\\\\chat_template.jinja',\n",
       " 'llama3.1-8B-gptq\\\\tokenizer.json')"
      ]
     },
     "metadata": {},
     "output_type": "display_data"
    }
   ],
   "source": [
    "# Load tokenizer\n",
    "tokenizer = AutoTokenizer.from_pretrained(\"meta-llama/Llama-3.1-8B-Instruct\")\n",
    "\n",
    "# Set up GPTQConfig\n",
    "gptq_config = GPTQConfig(\n",
    "    bits=4,\n",
    "    dataset=\"c4\",\n",
    "    tokenizer=tokenizer\n",
    ")\n",
    "\n",
    "# Load and quantize model\n",
    "quantized_model = AutoModelForCausalLM.from_pretrained(\n",
    "    \"meta-llama/Llama-3.1-8B-Instruct\",\n",
    "    device_map=\"auto\",\n",
    "    quantization_config=gptq_config\n",
    ")\n",
    "\n",
    "# Save locally\n",
    "quantized_model.save_pretrained(\"llama3.1-8B-gptq\")\n",
    "tokenizer.save_pretrained(\"llama3.1-8B-gptq\")"
   ]
  }
 ],
 "metadata": {
  "language_info": {
   "name": "python"
  }
 },
 "nbformat": 4,
 "nbformat_minor": 5
}
