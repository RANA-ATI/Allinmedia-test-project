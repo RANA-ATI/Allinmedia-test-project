{
 "cells": [
  {
   "cell_type": "markdown",
   "id": "2f19681b",
   "metadata": {},
   "source": [
    "### **Difference between ```argparse``` & ```click```**"
   ]
  },
  {
   "cell_type": "markdown",
   "id": "9b2e2372",
   "metadata": {},
   "source": [
    "##### ```Click is a third-party Python library that provides a more modern, user-friendly way to create command-line interfaces. It's not the same as argparse, though they serve similar purposes.```"
   ]
  },
  {
   "cell_type": "markdown",
   "id": "b9b1d9b5",
   "metadata": {},
   "source": [
    "```Key Differences```\n",
    "- ```Built-in vs Third-party```\n",
    "\n",
    "    - ```argparse:``` Built into Python standard library (no installation needed)\n",
    "    - ```click:``` Third-party library (needs pip install click)\n",
    "\n",
    "- ```Syntax Style```\n",
    "\n",
    "    - ```argparse:``` Imperative style (you build the parser step by step)\n",
    "    - ```click:``` Decorator-based style (you decorate functions with options)\n",
    "\n",
    "- ```Click's Pros:```\n",
    "    - Better User Experience\n",
    "    - Automatic Type Validation\n",
    "    - Better Error Messages\n",
    "\n",
    "- ```Use argparse if:```\n",
    "    - You want zero dependencies\n",
    "    - Building for production/distribution\n",
    "    - Your team is more familiar with argparse\n",
    "    - You need very specific parsing behavior"
   ]
  },
  {
   "cell_type": "code",
   "execution_count": 1,
   "id": "97469623",
   "metadata": {},
   "outputs": [],
   "source": [
    "# script_argparse.py\n",
    "\n",
    "import argparse\n",
    "\n",
    "def parse_arguments():\n",
    "    parser = argparse.ArgumentParser()\n",
    "    parser.add_argument('pdf_path')\n",
    "    parser.add_argument('--query', '-q', default=\"default query\")\n",
    "    parser.add_argument('--verbose', action='store_true') # For debugging showing all the outputs those which are not necessary for the user.\n",
    "    return parser.parse_args()\n",
    "\n",
    "def main():\n",
    "    args = parse_arguments()\n",
    "    # use args.pdf_path, args.query, etc."
   ]
  },
  {
   "cell_type": "code",
   "execution_count": null,
   "id": "117d73f8",
   "metadata": {},
   "outputs": [
    {
     "ename": "IndentationError",
     "evalue": "expected an indented block after function definition on line 9 (2717070326.py, line 10)",
     "output_type": "error",
     "traceback": [
      "\u001b[1;36m  Cell \u001b[1;32mIn[2], line 10\u001b[1;36m\u001b[0m\n\u001b[1;33m    # parameters are passed directly as function arguments\u001b[0m\n\u001b[1;37m                                                          ^\u001b[0m\n\u001b[1;31mIndentationError\u001b[0m\u001b[1;31m:\u001b[0m expected an indented block after function definition on line 9\n"
     ]
    }
   ],
   "source": [
    "# script_click.py\n",
    "\n",
    "# Click automatically parses the command-line arguments and passes them to your main() function like this:\n",
    "\n",
    "# main(\n",
    "#     pdf_path=\"document.pdf\",\n",
    "#     query=\"What is this?\",\n",
    "#     verbose=True\n",
    "# )\n",
    "\n",
    "# You do not need to manually fetch them — Click handles it behind the scenes and injects them directly into your function parameters, based on how you defined them with:\n",
    "\n",
    "import click\n",
    "\n",
    "@click.command()\n",
    "@click.argument('pdf_path')\n",
    "@click.option('--query', '-q', default=\"default query\")\n",
    "@click.option('--verbose', is_flag=True)\n",
    "def main(pdf_path, query, verbose):\n",
    "    # parameters are passed directly as function arguments\n",
    "    config = {\n",
    "        \"pdf_path\": pdf_path,\n",
    "        \"query\": query,\n",
    "        \"chunking_method\": \"semantic\",\n",
    "        \"embedding_model\": \"all-MiniLM-L6-v2\",\n",
    "        \"model_path\": \"llama-3\"\n",
    "    }"
   ]
  },
  {
   "cell_type": "markdown",
   "id": "70529cf7",
   "metadata": {},
   "source": [
    "##### **Both versions work identically**\n",
    "- ```python script_argparse.py document.pdf --query \"What is this?\" --verbose```\n",
    "- ```python script_click.py document.pdf --query \"What is this?\" --verbose```\n",
    "\n",
    "##### **Short options work the same**\n",
    "- ```python script_argparse.py document.pdf -q \"What is this?\" -v```\n",
    "- ```python script_click.py document.pdf -q \"What is this?\" -v```\n",
    "\n",
    "##### **Help works the same**\n",
    "- ```python script_argparse.py --help```\n",
    "- ```python script_click.py --help```"
   ]
  },
  {
   "cell_type": "code",
   "execution_count": null,
   "id": "6dbef38a",
   "metadata": {},
   "outputs": [],
   "source": []
  }
 ],
 "metadata": {
  "kernelspec": {
   "display_name": "Allinmedia-test-project (3.10.0)",
   "language": "python",
   "name": "python3"
  },
  "language_info": {
   "codemirror_mode": {
    "name": "ipython",
    "version": 3
   },
   "file_extension": ".py",
   "mimetype": "text/x-python",
   "name": "python",
   "nbconvert_exporter": "python",
   "pygments_lexer": "ipython3",
   "version": "3.10.0"
  }
 },
 "nbformat": 4,
 "nbformat_minor": 5
}
